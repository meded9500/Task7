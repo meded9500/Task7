{
 "cells": [
  {
   "cell_type": "code",
   "execution_count": 1,
   "id": "03a88157",
   "metadata": {},
   "outputs": [
    {
     "name": "stdout",
     "output_type": "stream",
     "text": [
      "char= ['a,b,c,d,e,f,g,h,i,j']\n",
      "the elements in x are of type =  <U17\n",
      "s has dimensions =  (10,)\n",
      "s has size =  10\n"
     ]
    }
   ],
   "source": [
    "# 1-ABC's\n",
    "import numpy as np\n",
    "char=np.array([\"a,b,c,d,e,f,g,h,i,j\"])\n",
    "s=np.array(['a','b','c','d','e','f','g','h','i','j'])\n",
    "print(\"char=\",char)\n",
    "print(\"the elements in x are of type = \" ,char.dtype)\n",
    "print(\"s has dimensions = \",s.shape)\n",
    "print(\"s has size = \",s.size)"
   ]
  },
  {
   "cell_type": "code",
   "execution_count": 3,
   "id": "dcbe7e4a",
   "metadata": {},
   "outputs": [
    {
     "name": "stdout",
     "output_type": "stream",
     "text": [
      "the ndarray array is = \n",
      " [[ 2.  4.  6.  8.]\n",
      " [10. 12. 14. 16.]\n",
      " [18. 20. 22. 24.]\n",
      " [26. 28. 30. 32.]]\n"
     ]
    }
   ],
   "source": [
    "# 2-Create an ndarray\n",
    "f=np.linspace(2,32,16)\n",
    "f=np.reshape(f,(4,4))\n",
    "print(\"the ndarray array is = \\n\" ,f)"
   ]
  },
  {
   "cell_type": "code",
   "execution_count": 5,
   "id": "f4aacf53",
   "metadata": {},
   "outputs": [
    {
     "name": "stdout",
     "output_type": "stream",
     "text": [
      "ndarray with consecutive integers is = \n",
      " [[ 1.  2.  3.  4.  5.]\n",
      " [ 6.  7.  8.  9. 10.]\n",
      " [11. 12. 13. 14. 15.]\n",
      " [16. 17. 18. 19. 20.]\n",
      " [21. 22. 23. 24. 25.]]\n",
      "odd numbers is = \n",
      " [ 1.  3.  5.  7.  9. 11. 13. 15. 17. 19. 21. 23. 25.]\n"
     ]
    }
   ],
   "source": [
    "# 3-Manipulating ndarrays\n",
    "y=np.linspace(1,25,25)\n",
    "y=np.reshape(y,(5,5))\n",
    "odd_numbers = y[y % 2 != 0]\n",
    "print(\"ndarray with consecutive integers is = \\n\",y)\n",
    "print(\"odd numbers is = \\n\",odd_numbers)"
   ]
  },
  {
   "cell_type": "code",
   "execution_count": null,
   "id": "11608dd8",
   "metadata": {},
   "outputs": [],
   "source": []
  }
 ],
 "metadata": {
  "kernelspec": {
   "display_name": "Python 3 (ipykernel)",
   "language": "python",
   "name": "python3"
  },
  "language_info": {
   "codemirror_mode": {
    "name": "ipython",
    "version": 3
   },
   "file_extension": ".py",
   "mimetype": "text/x-python",
   "name": "python",
   "nbconvert_exporter": "python",
   "pygments_lexer": "ipython3",
   "version": "3.7.8rc1"
  }
 },
 "nbformat": 4,
 "nbformat_minor": 5
}
